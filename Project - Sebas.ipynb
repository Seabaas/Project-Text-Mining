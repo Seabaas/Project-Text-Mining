{
 "cells": [
  {
   "cell_type": "code",
   "execution_count": 7,
   "metadata": {},
   "outputs": [],
   "source": [
    "import pandas as pd\n",
    "#import numpy as np\n",
    "#import nltk\n",
    "#import re\n",
    "#from nltk.stem.wordnet import WordNetLemmatizer\n",
    "#import spacy\n",
    "#from nltk.corpus import stopwords\n",
    "import matplotlib.pyplot as plt\n",
    "\n",
    "from sklearn.model_selection import train_test_split \n",
    "from sklearn.pipeline import make_pipeline\n",
    "from sklearn.feature_extraction.text import TfidfVectorizer\n",
    "from sklearn.naive_bayes import MultinomialNB\n",
    "from sklearn import metrics\n",
    "from sklearn.metrics import confusion_matrix\n",
    "from sklearn.metrics import classification_report"
   ]
  },
  {
   "cell_type": "code",
   "execution_count": 29,
   "metadata": {},
   "outputs": [
    {
     "name": "stdout",
     "output_type": "stream",
     "text": [
      "Number of songs before cleaning: 362237\n",
      "Number of songs after cleaning: 237426\n"
     ]
    }
   ],
   "source": [
    "# Loading data\n",
    "df = pd.read_csv('lyrics.csv', index_col=0)\n",
    "print(\"Number of songs before cleaning:\", len(df))\n",
    "\n",
    "data = df.dropna()\n",
    "data = data.drop(data[data0.genre == 'Not Available'].index)\n",
    "data = data.drop(data[data.genre == 'Other'].index)\n",
    "print(\"Number of songs after cleaning:\", len(data))"
   ]
  },
  {
   "cell_type": "code",
   "execution_count": 41,
   "metadata": {},
   "outputs": [
    {
     "name": "stdout",
     "output_type": "stream",
     "text": [
      "genre\n",
      "Rock          109235\n",
      "Pop            40466\n",
      "Hip-Hop        24850\n",
      "Metal          23759\n",
      "Country        14387\n",
      "Jazz            7970\n",
      "Electronic      7966\n",
      "R&B             3401\n",
      "Indie           3149\n",
      "Folk            2243\n",
      "dtype: int32\n"
     ]
    },
    {
     "data": {
      "image/png": "[encoded data removed]",
      "text/plain": [
       "<Figure size 504x360 with 1 Axes>"
      ]
     },
     "metadata": {
      "needs_background": "light"
     },
     "output_type": "display_data"
    }
   ],
   "source": [
    "counts = data.groupby('genre').size().sort_values(ascending=False)/1000\n",
    "print((counts*1000).astype(int))\n",
    "\n",
    "ax = counts.plot.bar(title=\"Number of songs for each genre\", figsize=(7,5))\n",
    "ax.set_xlabel('Genre')\n",
    "ax.set_ylabel('Number of songs (x1000)')\n",
    "\n",
    "plt.tight_layout()\n",
    "#plt.savefig('barplot.pdf')"
   ]
  },
  {
   "cell_type": "code",
   "execution_count": 8,
   "metadata": {},
   "outputs": [],
   "source": [
    "X_train, X_test, y_train, y_test = train_test_split(data.lyrics, data.genre, test_size=0.2, random_state=109)\n",
    "\n",
    "model = make_pipeline(TfidfVectorizer(), MultinomialNB())\n",
    "model.fit(X_train, y_train)\n",
    "\n",
    "labels = model.predict(X_test)"
   ]
  },
  {
   "cell_type": "code",
   "execution_count": 43,
   "metadata": {},
   "outputs": [
    {
     "name": "stdout",
     "output_type": "stream",
     "text": [
      "Accuracy: 0.5051594154066462\n",
      "Recall: [0.         0.0018622  0.04273504 0.32906837 0.         0.\n",
      " 0.05440034 0.12650905 0.         0.96027366]\n",
      "F1-score: [0.         0.00371747 0.08163265 0.48461652 0.         0.\n",
      " 0.1026149  0.19467828 0.         0.64856373]\n"
     ]
    },
    {
     "name": "stderr",
     "output_type": "stream",
     "text": [
      "C:\\Users\\Hp\\WPy64-3720\\python-3.7.2.amd64\\lib\\site-packages\\sklearn\\metrics\\classification.py:1143: UndefinedMetricWarning: F-score is ill-defined and being set to 0.0 in labels with no predicted samples.\n",
      "  'precision', 'predicted', average, warn_for)\n"
     ]
    }
   ],
   "source": [
    "print(\"Accuracy:\", metrics.accuracy_score(y_test, labels))\n",
    "print(\"Recall:\", metrics.recall_score(y_test, labels, average=None))\n",
    "print(\"F1-score:\", metrics.f1_score(y_test, labels, average=None))"
   ]
  },
  {
   "cell_type": "code",
   "execution_count": null,
   "metadata": {},
   "outputs": [],
   "source": [
    "Accuracy: 0.5051594154066462\n",
    "Recall:  [0 | 0.0019 | 0.0427 | 0.3291 | 0 | 0 | 0.0544 | 0.1265 | 0 | 0.9603]\n",
    "F1-score:[0 | 0.0037 | 0.0816 | 0.4846 | 0 | 0 | 0.1026 | 0.1947 | 0 | 0.6486]"
   ]
  },
  {
   "cell_type": "code",
   "execution_count": 49,
   "metadata": {},
   "outputs": [
    {
     "name": "stdout",
     "output_type": "stream",
     "text": [
      "              precision    recall  f1-score   support\n",
      "\n",
      "     Country       0.00      0.00      0.00      2870\n",
      "  Electronic       1.00      0.00      0.00      1611\n",
      "        Folk       0.91      0.04      0.08       468\n",
      "     Hip-Hop       0.92      0.33      0.48      5002\n",
      "       Indie       0.00      0.00      0.00       643\n",
      "        Jazz       0.00      0.00      0.00      1580\n",
      "       Metal       0.90      0.05      0.10      4761\n",
      "         Pop       0.42      0.13      0.19      7952\n",
      "         R&B       0.00      0.00      0.00       674\n",
      "        Rock       0.49      0.96      0.65     21925\n",
      "\n",
      "   micro avg       0.51      0.51      0.51     47486\n",
      "   macro avg       0.46      0.15      0.15     47486\n",
      "weighted avg       0.53      0.51      0.39     47486\n",
      "\n"
     ]
    }
   ],
   "source": [
    "print(classification_report(y_test, labels))"
   ]
  },
  {
   "cell_type": "code",
   "execution_count": 10,
   "metadata": {},
   "outputs": [],
   "source": [
    "cm = confusion_matrix(y_test, labels)"
   ]
  },
  {
   "cell_type": "code",
   "execution_count": null,
   "metadata": {},
   "outputs": [],
   "source": [
    "            Coun , Elec , Folk , Hip-H, Indie, Jazz , Metal, Pop  , R&B  , Rock\n",
    "Country    [    0,     0,     0,     1,     0,     0,     0,     8,     0,  2861]\n",
    "Electronic [    0,     3,     0,    20,     0,     0,     3,    55,     0,  1530]\n",
    "Folk       [    0,     0,    20,     0,     0,     0,     0,    44,     0,   404]\n",
    "Hip-Hop    [    0,     0,     0,  1646,     0,     0,     1,   208,     0,  3147]\n",
    "Indie      [    0,     0,     0,     2,     0,     0,     0,    28,     0,   613]\n",
    "Jazz       [    0,     0,     0,     4,     0,     0,     0,    89,     0,  1487]\n",
    "Metal      [    0,     0,     0,    31,     0,     0,   259,   124,     0,  4347]\n",
    "Pop        [    0,     0,     0,    46,     0,     0,     8,  1006,     0,  6892]\n",
    "R&B        [    0,     0,     0,     4,     0,     0,     0,     5,     0,   665]\n",
    "Rock       [    0,     0,     2,    37,     0,     0,    16,   816,     0, 21054]"
   ]
  },
  {
   "cell_type": "code",
   "execution_count": 17,
   "metadata": {},
   "outputs": [
    {
     "data": {
      "text/plain": [
       "genre\n",
       "Hip-Hop     24850\n",
       "Metal       23759\n",
       "Pop         40466\n",
       "Rock       109235\n",
       "dtype: int64"
      ]
     },
     "execution_count": 17,
     "metadata": {},
     "output_type": "execute_result"
    }
   ],
   "source": [
    "data1 = data[(data.genre == \"Hip-Hop\") | (data.genre == \"Metal\") | (data.genre == \"Pop\") | (data.genre == \"Rock\")]\n",
    "\n",
    "data1.groupby('genre').size()"
   ]
  },
  {
   "cell_type": "code",
   "execution_count": 22,
   "metadata": {},
   "outputs": [],
   "source": [
    "X_train1, X_test1, y_train1, y_test1 = train_test_split(data1.lyrics, data1.genre, test_size=0.2, random_state=109)\n",
    "\n",
    "model1 = make_pipeline(TfidfVectorizer(), MultinomialNB())\n",
    "model1.fit(X_train1, y_train1)\n",
    "\n",
    "labels1 = model1.predict(X_test1)"
   ]
  },
  {
   "cell_type": "code",
   "execution_count": 53,
   "metadata": {},
   "outputs": [
    {
     "name": "stdout",
     "output_type": "stream",
     "text": [
      "Accuracy: 0.604\n",
      "Recall: [0.33835812 0.06045924 0.12532094 0.96128648]\n",
      "F1-score: [0.49760336 0.11332675 0.1983935  0.73299563]\n"
     ]
    }
   ],
   "source": [
    "print(\"Accuracy:\", round(metrics.accuracy_score(y_test1, labels1),4))\n",
    "print(\"Recall:\", metrics.recall_score(y_test1, labels1, average=None))\n",
    "print(\"F1-score:\", metrics.f1_score(y_test1, labels1, average=None))"
   ]
  },
  {
   "cell_type": "code",
   "execution_count": 24,
   "metadata": {},
   "outputs": [
    {
     "data": {
      "text/plain": [
       "array([[ 1661,     0,   227,  3021],\n",
       "       [   26,   287,   114,  4320],\n",
       "       [   47,     7,  1025,  7100],\n",
       "       [   33,    24,   788, 20982]], dtype=int64)"
      ]
     },
     "execution_count": 24,
     "metadata": {},
     "output_type": "execute_result"
    }
   ],
   "source": [
    "cm1 = confusion_matrix(y_test1, labels1)\n",
    "cm1"
   ]
  },
  {
   "cell_type": "code",
   "execution_count": 48,
   "metadata": {},
   "outputs": [
    {
     "name": "stdout",
     "output_type": "stream",
     "text": [
      "              precision    recall  f1-score   support\n",
      "\n",
      "     Hip-Hop       0.94      0.34      0.50      4909\n",
      "       Metal       0.90      0.06      0.11      4747\n",
      "         Pop       0.48      0.13      0.20      8179\n",
      "        Rock       0.59      0.96      0.73     21827\n",
      "\n",
      "   micro avg       0.60      0.60      0.60     39662\n",
      "   macro avg       0.73      0.37      0.39     39662\n",
      "weighted avg       0.65      0.60      0.52     39662\n",
      "\n"
     ]
    }
   ],
   "source": [
    "print(classification_report(y_test1, labels1))"
   ]
  },
  {
   "cell_type": "code",
   "execution_count": null,
   "metadata": {},
   "outputs": [],
   "source": []
  },
  {
   "cell_type": "code",
   "execution_count": null,
   "metadata": {},
   "outputs": [],
   "source": []
  },
  {
   "cell_type": "code",
   "execution_count": null,
   "metadata": {},
   "outputs": [],
   "source": []
  },
  {
   "cell_type": "code",
   "execution_count": null,
   "metadata": {},
   "outputs": [],
   "source": []
  },
  {
   "cell_type": "code",
   "execution_count": null,
   "metadata": {},
   "outputs": [],
   "source": []
  },
  {
   "cell_type": "code",
   "execution_count": null,
   "metadata": {},
   "outputs": [],
   "source": []
  },
  {
   "cell_type": "code",
   "execution_count": null,
   "metadata": {},
   "outputs": [],
   "source": []
  },
  {
   "cell_type": "code",
   "execution_count": null,
   "metadata": {},
   "outputs": [],
   "source": []
  },
  {
   "cell_type": "code",
   "execution_count": null,
   "metadata": {},
   "outputs": [],
   "source": []
  },
  {
   "cell_type": "code",
   "execution_count": null,
   "metadata": {},
   "outputs": [],
   "source": []
  }
 ],
 "metadata": {
  "kernelspec": {
   "display_name": "Python 3",
   "language": "python",
   "name": "python3"
  },
  "language_info": {
   "codemirror_mode": {
    "name": "ipython",
    "version": 3
   },
   "file_extension": ".py",
   "mimetype": "text/x-python",
   "name": "python",
   "nbconvert_exporter": "python",
   "pygments_lexer": "ipython3",
   "version": "3.7.2"
  }
 },
 "nbformat": 4,
 "nbformat_minor": 2
}
